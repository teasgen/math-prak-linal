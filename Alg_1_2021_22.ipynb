{
  "nbformat": 4,
  "nbformat_minor": 0,
  "metadata": {
    "kernelspec": {
      "display_name": "Python 3",
      "language": "python",
      "name": "python3"
    },
    "language_info": {
      "codemirror_mode": {
        "name": "ipython",
        "version": 3
      },
      "file_extension": ".py",
      "mimetype": "text/x-python",
      "name": "python",
      "nbconvert_exporter": "python",
      "pygments_lexer": "ipython3",
      "version": "3.7.3"
    },
    "colab": {
      "name": "Alg_1_2021_22.ipynb",
      "provenance": [],
      "collapsed_sections": [],
      "include_colab_link": true
    }
  },
  "cells": [
    {
      "cell_type": "markdown",
      "metadata": {
        "id": "view-in-github",
        "colab_type": "text"
      },
      "source": [
        "<a href=\"https://colab.research.google.com/github/teasgen/first-task-math-prak/blob/main/Alg_1_2021_22.ipynb\" target=\"_parent\"><img src=\"https://colab.research.google.com/assets/colab-badge.svg\" alt=\"Open In Colab\"/></a>"
      ]
    },
    {
      "cell_type": "markdown",
      "metadata": {
        "id": "UzV0rFa3ZIE6"
      },
      "source": [
        "# Практическое занятие 1\n",
        "# Компьютерный практикум по алгебре на Python"
      ]
    },
    {
      "cell_type": "markdown",
      "metadata": {
        "id": "mX8d718PZIFA"
      },
      "source": [
        "https://docs.sympy.org/latest/tutorial/intro.html"
      ]
    },
    {
      "cell_type": "code",
      "metadata": {
        "id": "1uiC2YF7ZIFB"
      },
      "source": [
        "#Вначале для простоты будем подключать модуль sympy целиком\n",
        "from sympy import *"
      ],
      "execution_count": null,
      "outputs": []
    },
    {
      "cell_type": "markdown",
      "metadata": {
        "id": "T9m5qBLdZIFD"
      },
      "source": [
        "## Действия с числами, числовые выражения\n",
        "Об основных типах данных Python 3.10 читайте здесь:\n",
        "https://docs.python.org/3/reference/datamodel.html#index-19\n",
        "\n",
        "Сейчас нам понадобятся типы:\n",
        "\n",
        "int - целое число (насколько большим оно может быть, зависит только от объема доступной памяти)\n",
        "\n",
        "float - вещественное число (double precision floating point numbers)\n",
        "\n",
        "### Пример 1.\n",
        "Сумма, разность, произведение чисел 3000 и 50000 и квадрат 3000 . \n",
        "\n",
        "Для вывода результата в colab можно просто на последней строке написать, что нужно выводить."
      ]
    },
    {
      "cell_type": "code",
      "metadata": {
        "colab": {
          "base_uri": "https://localhost:8080/"
        },
        "id": "LFEVN9lGZIFE",
        "outputId": "3890e291-cd5b-486b-a378-cd146e4b6cbf"
      },
      "source": [
        "3000 + 50000, 3000 - 50000, 3000 * 50000, 3000 ** 2"
      ],
      "execution_count": null,
      "outputs": [
        {
          "output_type": "execute_result",
          "data": {
            "text/plain": [
              "(53000, -47000, 150000000, 9000000)"
            ]
          },
          "metadata": {},
          "execution_count": 50
        }
      ]
    },
    {
      "cell_type": "markdown",
      "metadata": {
        "id": "cihtmDmKqu4B"
      },
      "source": [
        "Для более информативного вывода используем встроенную функцию print."
      ]
    },
    {
      "cell_type": "code",
      "metadata": {
        "colab": {
          "base_uri": "https://localhost:8080/"
        },
        "id": "FcCIriVrq3To",
        "outputId": "090feea5-aab2-4403-ea99-de75915f94a0"
      },
      "source": [
        "print('3000 + 50000 =', 3000 + 50000, '3000 - 50000 =', 3000 - 50000,\n",
        "      '3000 * 50000 =', 3000 * 50000, '3000 ** 2 =', 3000 ** 2)"
      ],
      "execution_count": null,
      "outputs": [
        {
          "output_type": "stream",
          "name": "stdout",
          "text": [
            "3000 + 50000 = 53000 3000 - 50000 = -47000 3000 * 50000 = 150000000 3000 ** 2 = 9000000\n"
          ]
        }
      ]
    },
    {
      "cell_type": "markdown",
      "metadata": {
        "id": "VYxyHv4DrZCx"
      },
      "source": [
        "Еще более красивый вывод получается с использованием формата строк:"
      ]
    },
    {
      "cell_type": "code",
      "metadata": {
        "colab": {
          "base_uri": "https://localhost:8080/"
        },
        "id": "1dartSqArfzY",
        "outputId": "1f49df42-c3fa-41f4-d8d1-c5ea2cb87c2c"
      },
      "source": [
        "print(f'3000 + 50000 = {3000 + 50000}, 3000 - 50000 = {3000 - 50000}, 3000 * 50000 = {3000 * 50000}, 3000 ** 2 = {3000 ** 2}')"
      ],
      "execution_count": null,
      "outputs": [
        {
          "output_type": "stream",
          "name": "stdout",
          "text": [
            "3000 + 50000 = 53000, 3000 - 50000 = -47000, 3000 * 50000 = 150000000, 3000 ** 2 = 9000000\n"
          ]
        }
      ]
    },
    {
      "cell_type": "markdown",
      "metadata": {
        "id": "OeBsnLh6r2Rg"
      },
      "source": [
        "Для переноса строки внутри вызова функции print можно использовать \"\"\" вместо '"
      ]
    },
    {
      "cell_type": "code",
      "metadata": {
        "colab": {
          "base_uri": "https://localhost:8080/"
        },
        "id": "72B9ipRGsBtg",
        "outputId": "08ecd251-1b46-4c52-fd6c-c5e48dfa1589"
      },
      "source": [
        "print(f\"\"\"3000 + 50000 = {3000 + 50000}, 3000 - 50000 = {3000 - 50000},\n",
        "3000 * 50000 = {3000 * 50000}, 3000 ** 2 = {3000 ** 2}\"\"\")"
      ],
      "execution_count": null,
      "outputs": [
        {
          "output_type": "stream",
          "name": "stdout",
          "text": [
            "3000 + 50000 = 53000, 3000 - 50000 = -47000,\n",
            "3000 * 50000 = 150000000, 3000 ** 2 = 9000000\n"
          ]
        }
      ]
    },
    {
      "cell_type": "markdown",
      "metadata": {
        "id": "HOzvuoziZIFF"
      },
      "source": [
        "### Пример 2.\n",
        "При делении целых чисел рекомендуется пользоваться целочисленными операциями деления и вычисления остатка от деления, поскольку обычное деление неизбежно приводит к результату типа float, даже если делимое нацело делится на делитель.\n",
        "\n",
        "Выведем на экран целую часть от деления 8 на 4 и остаток от деления, а также результат обычного деления 8 на 4."
      ]
    },
    {
      "cell_type": "code",
      "metadata": {
        "colab": {
          "base_uri": "https://localhost:8080/"
        },
        "id": "iT4mc8XbZIFG",
        "outputId": "a4e4ef3b-66fa-4ebb-ef2e-85c061ae4d55"
      },
      "source": [
        "print(f'8 // 4 = {8 // 4}, 8 % 4 = {8 % 4}, 8 / 4 = {8 / 4}')"
      ],
      "execution_count": null,
      "outputs": [
        {
          "output_type": "stream",
          "name": "stdout",
          "text": [
            "8 // 4 = 2, 8 % 4 = 0, 8 / 4 = 2.0\n"
          ]
        }
      ]
    },
    {
      "cell_type": "markdown",
      "metadata": {
        "id": "TuxfiY6MZIFG"
      },
      "source": [
        "### Пример 3.\n",
        "У функции print есть необязательный параметр end, по умолчанию равный переводу на новую строку, так что каждый вызов print дает отдельную строку на экране. Если нужно результаты вызова print вывести на одной строке, например, через запятую и пробел, то устанавливаем end=', '."
      ]
    },
    {
      "cell_type": "code",
      "metadata": {
        "colab": {
          "base_uri": "https://localhost:8080/"
        },
        "id": "ZbtYmEp_ZIFH",
        "outputId": "a6b2c152-5d49-4250-e4d7-f6b5c4c358f5"
      },
      "source": [
        "print(f'8 // 3 = {8 // 3}', end=', ')\n",
        "print(f'8 % 3 = {8 % 3}', end=', ') \n",
        "print(f'8 / 3 = {8 / 3}')"
      ],
      "execution_count": null,
      "outputs": [
        {
          "output_type": "stream",
          "name": "stdout",
          "text": [
            "8 // 3 = 2, 8 % 3 = 2, 8 / 3 = 2.6666666666666665\n"
          ]
        }
      ]
    },
    {
      "cell_type": "markdown",
      "metadata": {
        "id": "fdnsbGllwG7C"
      },
      "source": [
        "В качестве разделителя между отдельными аргументами print по умолчанию используется пробел, но это можно изменить, используя необязательный параметр sep. Сравните результат с sep=', ' и без."
      ]
    },
    {
      "cell_type": "code",
      "metadata": {
        "colab": {
          "base_uri": "https://localhost:8080/"
        },
        "id": "PkCZKfvowq5g",
        "outputId": "3b7d717f-17e9-4cb3-910c-4571799e20c8"
      },
      "source": [
        "print(f'8 // 4 = {8 // 4}', f'8 % 4 = {8 % 4}', f'8 / 4 = {8 / 4}')\n",
        "print(f'8 // 4 = {8 // 4}', f'8 % 4 = {8 % 4}', f'8 / 4 = {8 / 4}', sep=', ')"
      ],
      "execution_count": null,
      "outputs": [
        {
          "output_type": "stream",
          "name": "stdout",
          "text": [
            "8 // 4 = 2 8 % 4 = 0 8 / 4 = 2.0\n",
            "8 // 4 = 2, 8 % 4 = 0, 8 / 4 = 2.0\n"
          ]
        }
      ]
    },
    {
      "cell_type": "markdown",
      "metadata": {
        "id": "fMo_sHeeZIFJ"
      },
      "source": [
        "### Пример 4.\n",
        "Далее будем пользоваться функцией display() для красивого вывода математических формул там, где это не получается автоматически.\n",
        "Cравним результат с print.\n",
        "\n",
        "Посмотрим, как выглядят значения некоторых математических функций из sympy:"
      ]
    },
    {
      "cell_type": "code",
      "metadata": {
        "colab": {
          "base_uri": "https://localhost:8080/",
          "height": 116
        },
        "id": "-02XX_t3ZIFK",
        "outputId": "55265809-5813-4360-c38e-ee5b8c47e979"
      },
      "source": [
        "display(sqrt(8), sin(pi / 3), atan(0))\n",
        "print(sqrt(8), sin(pi / 3), atan(0))"
      ],
      "execution_count": null,
      "outputs": [
        {
          "output_type": "display_data",
          "data": {
            "text/latex": "$\\displaystyle 2 \\sqrt{2}$",
            "text/plain": [
              "2*sqrt(2)"
            ]
          },
          "metadata": {}
        },
        {
          "output_type": "display_data",
          "data": {
            "text/latex": "$\\displaystyle \\frac{\\sqrt{3}}{2}$",
            "text/plain": [
              "sqrt(3)/2"
            ]
          },
          "metadata": {}
        },
        {
          "output_type": "display_data",
          "data": {
            "text/latex": "$\\displaystyle 0$",
            "text/plain": [
              "0"
            ]
          },
          "metadata": {}
        },
        {
          "output_type": "stream",
          "name": "stdout",
          "text": [
            "2*sqrt(2) sqrt(3)/2 0\n"
          ]
        }
      ]
    },
    {
      "cell_type": "markdown",
      "metadata": {
        "id": "PZGMn6l4c4qG"
      },
      "source": [
        "Если нужны приближенные значения, преобразуем выражения в тип float:"
      ]
    },
    {
      "cell_type": "code",
      "metadata": {
        "colab": {
          "base_uri": "https://localhost:8080/"
        },
        "id": "I70XoqJrZIFK",
        "outputId": "bc688a9f-f29e-4115-9a14-4ac57ab4a526"
      },
      "source": [
        "float(sqrt(8)), float(sin(9)), float(atan(0))"
      ],
      "execution_count": null,
      "outputs": [
        {
          "output_type": "execute_result",
          "data": {
            "text/plain": [
              "(2.8284271247461903, 0.4121184852417566, 0.0)"
            ]
          },
          "metadata": {},
          "execution_count": 12
        }
      ]
    },
    {
      "cell_type": "markdown",
      "metadata": {
        "id": "bIbi_fYDZIFL"
      },
      "source": [
        "## Символы, символьные выражения\n",
        "Для аналитических преобразований в sympy используется класс Symbol\n",
        "\n",
        "https://docs.sympy.org/latest/modules/core.html?highlight=symbol#module-sympy.core.symbol\n",
        "\n",
        "В этом классе есть метод Symbol для создания одного символа.\n",
        "### Пример 5.\n",
        "Создадим символ $x$ и используем его для составления выражения"
      ]
    },
    {
      "cell_type": "code",
      "metadata": {
        "colab": {
          "base_uri": "https://localhost:8080/",
          "height": 53
        },
        "id": "0kLyN2W4ZIFL",
        "outputId": "a054fe98-b414-4618-f478-34ff49f4bfea"
      },
      "source": [
        "x = Symbol('x')\n",
        "expr1 = x + 2 ** x\n",
        "expr2 = sin(x) / x\n",
        "expr1 * expr2"
      ],
      "execution_count": null,
      "outputs": [
        {
          "output_type": "execute_result",
          "data": {
            "text/latex": "$\\displaystyle \\frac{\\left(2^{x} + x\\right) \\sin{\\left(x \\right)}}{x}$",
            "text/plain": [
              "(2**x + x)*sin(x)/x"
            ]
          },
          "metadata": {},
          "execution_count": 5
        }
      ]
    },
    {
      "cell_type": "markdown",
      "metadata": {
        "id": "iUR1SPXDZIFM"
      },
      "source": [
        "Можно создавать несколько символов сразу.\n",
        "### Пример 6.\n",
        "Создадим символы $y$ и $z$ и упростим выражение с ними.\n",
        "Обратим внимание, что используется symbols, а не Symbol!"
      ]
    },
    {
      "cell_type": "code",
      "metadata": {
        "colab": {
          "base_uri": "https://localhost:8080/",
          "height": 38
        },
        "id": "NWLz0GD7ZIFN",
        "outputId": "890283eb-05a0-473a-ee03-f5898d14291f"
      },
      "source": [
        "y, z = symbols('y z')\n",
        "y ** 2 + 1 - z * y ** 2 + 5 * z ** 3 - 3 * y ** 2"
      ],
      "execution_count": null,
      "outputs": [
        {
          "output_type": "execute_result",
          "data": {
            "text/latex": "$\\displaystyle - y^{2} z - 2 y^{2} + 5 z^{3} + 1$",
            "text/plain": [
              "-y**2*z - 2*y**2 + 5*z**3 + 1"
            ]
          },
          "metadata": {},
          "execution_count": 6
        }
      ]
    },
    {
      "cell_type": "markdown",
      "metadata": {
        "id": "AuPXWfT1ZIFN"
      },
      "source": [
        "### Пример 7.\n",
        "Создадим символы $x_0,...x_9$ и составим выражение с ними\n",
        "\n",
        "Здесь используется цикл for со счетчиком i, значения счетчика берутся из диапазона range(start, end, step). По умолчанию start равен 0, step единица, так что если передать только один аргумент, получится последовательность всех целых чисел от 0 до end-1. \n",
        "\n",
        "ВАЖНО!!! end не включается в range.\n",
        "\n",
        "len(X) - длина X, в данном случае число элементов X."
      ]
    },
    {
      "cell_type": "code",
      "metadata": {
        "colab": {
          "base_uri": "https://localhost:8080/",
          "height": 246
        },
        "id": "eN3Bauv4ZIFO",
        "outputId": "e352b537-84ac-4a68-f8c6-f5fcf9bc1601"
      },
      "source": [
        "X = symbols('x:10')\n",
        "display(X)\n",
        "expr7 = 0\n",
        "for i in range(len(X)):  \n",
        "    expr7 += X[i] ** i               \n",
        "display(expr7)"
      ],
      "execution_count": null,
      "outputs": [
        {
          "output_type": "error",
          "ename": "NameError",
          "evalue": "ignored",
          "traceback": [
            "\u001b[0;31m---------------------------------------------------------------------------\u001b[0m",
            "\u001b[0;31mNameError\u001b[0m                                 Traceback (most recent call last)",
            "\u001b[0;32m<ipython-input-1-3536dfaa7114>\u001b[0m in \u001b[0;36m<module>\u001b[0;34m()\u001b[0m\n\u001b[0;32m----> 1\u001b[0;31m \u001b[0mX\u001b[0m \u001b[0;34m=\u001b[0m \u001b[0msymbols\u001b[0m\u001b[0;34m(\u001b[0m\u001b[0;34m'x:10'\u001b[0m\u001b[0;34m)\u001b[0m\u001b[0;34m\u001b[0m\u001b[0;34m\u001b[0m\u001b[0m\n\u001b[0m\u001b[1;32m      2\u001b[0m \u001b[0mdisplay\u001b[0m\u001b[0;34m(\u001b[0m\u001b[0mX\u001b[0m\u001b[0;34m)\u001b[0m\u001b[0;34m\u001b[0m\u001b[0;34m\u001b[0m\u001b[0m\n\u001b[1;32m      3\u001b[0m \u001b[0mexpr7\u001b[0m \u001b[0;34m=\u001b[0m \u001b[0;36m0\u001b[0m\u001b[0;34m\u001b[0m\u001b[0;34m\u001b[0m\u001b[0m\n\u001b[1;32m      4\u001b[0m \u001b[0;32mfor\u001b[0m \u001b[0mi\u001b[0m \u001b[0;32min\u001b[0m \u001b[0mrange\u001b[0m\u001b[0;34m(\u001b[0m\u001b[0mlen\u001b[0m\u001b[0;34m(\u001b[0m\u001b[0mX\u001b[0m\u001b[0;34m)\u001b[0m\u001b[0;34m)\u001b[0m\u001b[0;34m:\u001b[0m\u001b[0;34m\u001b[0m\u001b[0;34m\u001b[0m\u001b[0m\n\u001b[1;32m      5\u001b[0m     \u001b[0mexpr7\u001b[0m \u001b[0;34m+=\u001b[0m \u001b[0mX\u001b[0m\u001b[0;34m[\u001b[0m\u001b[0mi\u001b[0m\u001b[0;34m]\u001b[0m \u001b[0;34m**\u001b[0m \u001b[0mi\u001b[0m\u001b[0;34m\u001b[0m\u001b[0;34m\u001b[0m\u001b[0m\n",
            "\u001b[0;31mNameError\u001b[0m: name 'symbols' is not defined"
          ]
        }
      ]
    },
    {
      "cell_type": "markdown",
      "metadata": {
        "id": "VqBBBJdgZIFO"
      },
      "source": [
        "### Пример 8.\n",
        "Создадим символы x10,...x21. Обратите внимание, что послений индекс не учитывается, так что пишем x10:22, а не x10:21.\n",
        "\n",
        "Для красивого вывода используем display, для поэлементного вывода используем $*$ перед именем X10_21 (X10_21 - tuple, состоящий из отдельных символов).\n",
        "\n",
        "Сравните результат с $*$ и без."
      ]
    },
    {
      "cell_type": "code",
      "metadata": {
        "colab": {
          "base_uri": "https://localhost:8080/",
          "height": 287
        },
        "id": "xjEzjIU2ZIFP",
        "outputId": "9fb80c5d-16d3-4fcb-b076-88c62a2c5c9f"
      },
      "source": [
        "X10_21 = symbols('x10:22')\n",
        "display(X10_21)\n",
        "display(*X10_21)"
      ],
      "execution_count": null,
      "outputs": [
        {
          "output_type": "display_data",
          "data": {
            "text/plain": [
              "(x10, x11, x12, x13, x14, x15, x16, x17, x18, x19, x20, x21)"
            ]
          },
          "metadata": {}
        },
        {
          "output_type": "display_data",
          "data": {
            "text/latex": "$\\displaystyle x_{10}$",
            "text/plain": [
              "x10"
            ]
          },
          "metadata": {}
        },
        {
          "output_type": "display_data",
          "data": {
            "text/latex": "$\\displaystyle x_{11}$",
            "text/plain": [
              "x11"
            ]
          },
          "metadata": {}
        },
        {
          "output_type": "display_data",
          "data": {
            "text/latex": "$\\displaystyle x_{12}$",
            "text/plain": [
              "x12"
            ]
          },
          "metadata": {}
        },
        {
          "output_type": "display_data",
          "data": {
            "text/latex": "$\\displaystyle x_{13}$",
            "text/plain": [
              "x13"
            ]
          },
          "metadata": {}
        },
        {
          "output_type": "display_data",
          "data": {
            "text/latex": "$\\displaystyle x_{14}$",
            "text/plain": [
              "x14"
            ]
          },
          "metadata": {}
        },
        {
          "output_type": "display_data",
          "data": {
            "text/latex": "$\\displaystyle x_{15}$",
            "text/plain": [
              "x15"
            ]
          },
          "metadata": {}
        },
        {
          "output_type": "display_data",
          "data": {
            "text/latex": "$\\displaystyle x_{16}$",
            "text/plain": [
              "x16"
            ]
          },
          "metadata": {}
        },
        {
          "output_type": "display_data",
          "data": {
            "text/latex": "$\\displaystyle x_{17}$",
            "text/plain": [
              "x17"
            ]
          },
          "metadata": {}
        },
        {
          "output_type": "display_data",
          "data": {
            "text/latex": "$\\displaystyle x_{18}$",
            "text/plain": [
              "x18"
            ]
          },
          "metadata": {}
        },
        {
          "output_type": "display_data",
          "data": {
            "text/latex": "$\\displaystyle x_{19}$",
            "text/plain": [
              "x19"
            ]
          },
          "metadata": {}
        },
        {
          "output_type": "display_data",
          "data": {
            "text/latex": "$\\displaystyle x_{20}$",
            "text/plain": [
              "x20"
            ]
          },
          "metadata": {}
        },
        {
          "output_type": "display_data",
          "data": {
            "text/latex": "$\\displaystyle x_{21}$",
            "text/plain": [
              "x21"
            ]
          },
          "metadata": {}
        }
      ]
    },
    {
      "cell_type": "markdown",
      "metadata": {
        "id": "6bCvZvh-ZIFQ"
      },
      "source": [
        "## Операции с символьными выражениями: simplify, expand,factor,collect\n",
        "#### simplify\n",
        "используется для упрощения выражения\n",
        "#### expand \n",
        "используется для раскрытия скобок\n",
        "#### factor \n",
        "для разложения на множители\n",
        "#### collect \n",
        "для группировки по степеням переменной\n",
        "### Пример 9.\n",
        "Создадим выражение $(x-3)^2$  и раскроем скобки.\n",
        "К полученному выражению применим factor.\n",
        "Выражение $x+5xy-x^2y^3-x^2$ сгруппируем по степеням $x$. Упростим последнее выражение."
      ]
    },
    {
      "cell_type": "code",
      "metadata": {
        "colab": {
          "base_uri": "https://localhost:8080/",
          "height": 218
        },
        "id": "1pbWlkDeZIFR",
        "outputId": "80b1a8c7-a4d5-49a3-c4cb-298f3733ab85"
      },
      "source": [
        "expr9 = (x - 3) ** 2\n",
        "print('expr9')\n",
        "display(expr9)\n",
        "expr9_1 = expand(expr9)\n",
        "print('expand(expr9)')\n",
        "display(expr9_1)\n",
        "expr9_2 = factor(expr9_1)\n",
        "print('factor(expr9)')\n",
        "display(expr9_2)\n",
        "expr9_3 = x - 5 * x * y - x ** 2 * y ** 3 - x ** 2\n",
        "print('collect(expr9, x)')\n",
        "display(collect(expr9_3, x))\n",
        "expr9_4 = simplify(expr9_3)\n",
        "print('simplify(expr9)')\n",
        "display(expr9_4)"
      ],
      "execution_count": null,
      "outputs": [
        {
          "output_type": "stream",
          "name": "stdout",
          "text": [
            "expr9\n"
          ]
        },
        {
          "output_type": "display_data",
          "data": {
            "text/latex": "$\\displaystyle \\left(x - 3\\right)^{2}$",
            "text/plain": [
              "(x - 3)**2"
            ]
          },
          "metadata": {}
        },
        {
          "output_type": "stream",
          "name": "stdout",
          "text": [
            "expand(expr9)\n"
          ]
        },
        {
          "output_type": "display_data",
          "data": {
            "text/latex": "$\\displaystyle x^{2} - 6 x + 9$",
            "text/plain": [
              "x**2 - 6*x + 9"
            ]
          },
          "metadata": {}
        },
        {
          "output_type": "stream",
          "name": "stdout",
          "text": [
            "factor(expr9)\n"
          ]
        },
        {
          "output_type": "display_data",
          "data": {
            "text/latex": "$\\displaystyle \\left(x - 3\\right)^{2}$",
            "text/plain": [
              "(x - 3)**2"
            ]
          },
          "metadata": {}
        },
        {
          "output_type": "stream",
          "name": "stdout",
          "text": [
            "collect(expr9, x)\n"
          ]
        },
        {
          "output_type": "display_data",
          "data": {
            "text/latex": "$\\displaystyle x^{2} \\left(- y^{3} - 1\\right) + x \\left(1 - 5 y\\right)$",
            "text/plain": [
              "x**2*(-y**3 - 1) + x*(1 - 5*y)"
            ]
          },
          "metadata": {}
        },
        {
          "output_type": "stream",
          "name": "stdout",
          "text": [
            "simplify(expr9)\n"
          ]
        },
        {
          "output_type": "display_data",
          "data": {
            "text/latex": "$\\displaystyle x \\left(- x y^{3} - x - 5 y + 1\\right)$",
            "text/plain": [
              "x*(-x*y**3 - x - 5*y + 1)"
            ]
          },
          "metadata": {}
        }
      ]
    },
    {
      "cell_type": "code",
      "metadata": {
        "colab": {
          "base_uri": "https://localhost:8080/",
          "height": 56
        },
        "id": "loRp4jPjZIFR",
        "outputId": "3dad152d-4db1-4b02-a570-1cde26691ba1"
      },
      "source": [
        "print('factor(x ** 2 + 2 * x * y + y ** 2)')\n",
        "display(factor(x ** 2 + 2 * x * y + y ** 2))"
      ],
      "execution_count": null,
      "outputs": [
        {
          "output_type": "stream",
          "name": "stdout",
          "text": [
            "factor(x ** 2 + 2 * x * y + y ** 2)\n"
          ]
        },
        {
          "output_type": "display_data",
          "data": {
            "text/latex": "$\\displaystyle \\left(x + y\\right)^{2}$",
            "text/plain": [
              "(x + y)**2"
            ]
          },
          "metadata": {}
        }
      ]
    },
    {
      "cell_type": "markdown",
      "metadata": {
        "id": "DWdx1i4uZIFS"
      },
      "source": [
        "## Списки и кортежи\n",
        "Нам понадобятся два итерируемых типа\n",
        "\n",
        "#### списки list\n",
        "изменяемый тип\n",
        "#### кортежи tuple\n",
        "неизменяемый тип\n",
        "\n",
        "### Пример 10\n",
        "создадим кортеж символов:"
      ]
    },
    {
      "cell_type": "code",
      "metadata": {
        "colab": {
          "base_uri": "https://localhost:8080/",
          "height": 142
        },
        "id": "T5dfMopzZIFS",
        "outputId": "ba2c6f9f-d68e-42a0-d776-6c0661ca5ec3"
      },
      "source": [
        "tup = symbols('c:f')\n",
        "display(tup, *tup, tup[1])"
      ],
      "execution_count": null,
      "outputs": [
        {
          "output_type": "display_data",
          "data": {
            "text/plain": [
              "(c, d, e, f)"
            ]
          },
          "metadata": {}
        },
        {
          "output_type": "display_data",
          "data": {
            "text/latex": "$\\displaystyle c$",
            "text/plain": [
              "c"
            ]
          },
          "metadata": {}
        },
        {
          "output_type": "display_data",
          "data": {
            "text/latex": "$\\displaystyle d$",
            "text/plain": [
              "d"
            ]
          },
          "metadata": {}
        },
        {
          "output_type": "display_data",
          "data": {
            "text/latex": "$\\displaystyle e$",
            "text/plain": [
              "e"
            ]
          },
          "metadata": {}
        },
        {
          "output_type": "display_data",
          "data": {
            "text/latex": "$\\displaystyle f$",
            "text/plain": [
              "f"
            ]
          },
          "metadata": {}
        },
        {
          "output_type": "display_data",
          "data": {
            "text/latex": "$\\displaystyle d$",
            "text/plain": [
              "d"
            ]
          },
          "metadata": {}
        }
      ]
    },
    {
      "cell_type": "markdown",
      "metadata": {
        "id": "U07_RQIvZIFS"
      },
      "source": [
        "### Пример 11\n",
        "Создадим  список символов и заменим в нем второй символ на символ $х$."
      ]
    },
    {
      "cell_type": "code",
      "metadata": {
        "colab": {
          "base_uri": "https://localhost:8080/",
          "height": 54
        },
        "id": "TZIWuJ0wZIFS",
        "outputId": "70a3aa64-4793-4b14-9a7b-2a378486256e"
      },
      "source": [
        "list_sym = symbols(['m', 'p', 'q', 'r'])\n",
        "display(list_sym)\n",
        "list_sym[2] = x\n",
        "display(list_sym)"
      ],
      "execution_count": null,
      "outputs": [
        {
          "output_type": "display_data",
          "data": {
            "text/plain": [
              "[m, p, q, r]"
            ]
          },
          "metadata": {}
        },
        {
          "output_type": "display_data",
          "data": {
            "text/plain": [
              "[m, p, x, r]"
            ]
          },
          "metadata": {}
        }
      ]
    },
    {
      "cell_type": "markdown",
      "metadata": {
        "id": "PskKu9AeZIFT"
      },
      "source": [
        "Если попытаемся заменить элемент кортежа, получим сообщение об ошибке"
      ]
    },
    {
      "cell_type": "code",
      "metadata": {
        "id": "Rox28vfzZIFT",
        "colab": {
          "base_uri": "https://localhost:8080/",
          "height": 172
        },
        "outputId": "b7e0b144-63f3-48d7-c289-57df61538b0a"
      },
      "source": [
        "tup[1] = 1"
      ],
      "execution_count": null,
      "outputs": [
        {
          "output_type": "error",
          "ename": "TypeError",
          "evalue": "ignored",
          "traceback": [
            "\u001b[0;31m---------------------------------------------------------------------------\u001b[0m",
            "\u001b[0;31mTypeError\u001b[0m                                 Traceback (most recent call last)",
            "\u001b[0;32m<ipython-input-10-d516279dfb61>\u001b[0m in \u001b[0;36m<module>\u001b[0;34m()\u001b[0m\n\u001b[0;32m----> 1\u001b[0;31m \u001b[0mtup\u001b[0m\u001b[0;34m[\u001b[0m\u001b[0;36m1\u001b[0m\u001b[0;34m]\u001b[0m \u001b[0;34m=\u001b[0m \u001b[0;36m1\u001b[0m\u001b[0;34m\u001b[0m\u001b[0;34m\u001b[0m\u001b[0m\n\u001b[0m",
            "\u001b[0;31mTypeError\u001b[0m: 'tuple' object does not support item assignment"
          ]
        }
      ]
    },
    {
      "cell_type": "markdown",
      "metadata": {
        "id": "6dxuudZRZIFT"
      },
      "source": [
        "## Вложенные списки\n",
        "\n",
        "Создадим вложенный список - аналог двумерного массива:"
      ]
    },
    {
      "cell_type": "code",
      "metadata": {
        "colab": {
          "base_uri": "https://localhost:8080/",
          "height": 54
        },
        "id": "U8u2W5P4ZIFT",
        "outputId": "d18564ea-86f9-4dbd-be4c-ce7bf61f3638"
      },
      "source": [
        "list2d = [[1, 2], [3, 4]]\n",
        "display(list2d)\n",
        "list2d[1][0] = 5\n",
        "display(list2d)"
      ],
      "execution_count": null,
      "outputs": [
        {
          "output_type": "display_data",
          "data": {
            "text/plain": [
              "[[1, 2], [3, 4]]"
            ]
          },
          "metadata": {}
        },
        {
          "output_type": "display_data",
          "data": {
            "text/plain": [
              "[[1, 2], [5, 4]]"
            ]
          },
          "metadata": {}
        }
      ]
    },
    {
      "cell_type": "markdown",
      "metadata": {
        "id": "7qJ7Qe9jZIFU"
      },
      "source": [
        "Индексация во вложенном списке:\n",
        "\n",
        "$A[i][j]$ - элемент списка $A$, находящийся в $i$-й строке $j$-м столбце\n",
        "\n",
        "## Матрицы\n",
        "В sympy есть объекты Matrix\n",
        "\n",
        "https://docs.sympy.org/latest/tutorial/matrices.html?highlight=matrix\n",
        "\n",
        "К матрицам можно применять метод det().\n",
        "\n",
        "У матриц есть свойство shape.\n",
        "\n",
        "Матрицу можно построить, например, на основе списка:"
      ]
    },
    {
      "cell_type": "code",
      "metadata": {
        "id": "okyYfuLtZIFU",
        "colab": {
          "base_uri": "https://localhost:8080/",
          "height": 96
        },
        "outputId": "5d9b739a-36e6-4d03-9d39-c03dfedec9e6"
      },
      "source": [
        "M = Matrix(list2d)\n",
        "display(M)\n",
        "display(M.det())\n",
        "M.shape"
      ],
      "execution_count": null,
      "outputs": [
        {
          "output_type": "display_data",
          "data": {
            "text/latex": "$\\displaystyle \\left[\\begin{matrix}1 & 2\\\\5 & 4\\end{matrix}\\right]$",
            "text/plain": [
              "Matrix([\n",
              "[1, 2],\n",
              "[5, 4]])"
            ]
          },
          "metadata": {}
        },
        {
          "output_type": "display_data",
          "data": {
            "text/latex": "$\\displaystyle -6$",
            "text/plain": [
              "-6"
            ]
          },
          "metadata": {}
        },
        {
          "output_type": "execute_result",
          "data": {
            "text/plain": [
              "(2, 2)"
            ]
          },
          "metadata": {},
          "execution_count": 12
        }
      ]
    },
    {
      "cell_type": "markdown",
      "metadata": {
        "id": "7xi6pdGAZIFU"
      },
      "source": [
        "### Создание матриц определенного вида\n",
        "\n",
        "Можно создавать матрицы из нулей, единиц и единичные матрицы с помощью встренных функций"
      ]
    },
    {
      "cell_type": "code",
      "metadata": {
        "colab": {
          "base_uri": "https://localhost:8080/",
          "height": 200
        },
        "id": "DkFburGnZIFU",
        "outputId": "4f717802-37b9-4569-fcfb-8eab149cb1bb"
      },
      "source": [
        "display(zeros(2), ones(3), eye(4))"
      ],
      "execution_count": null,
      "outputs": [
        {
          "output_type": "display_data",
          "data": {
            "text/latex": "$\\displaystyle \\left[\\begin{matrix}0 & 0\\\\0 & 0\\end{matrix}\\right]$",
            "text/plain": [
              "Matrix([\n",
              "[0, 0],\n",
              "[0, 0]])"
            ]
          },
          "metadata": {}
        },
        {
          "output_type": "display_data",
          "data": {
            "text/latex": "$\\displaystyle \\left[\\begin{matrix}1 & 1 & 1\\\\1 & 1 & 1\\\\1 & 1 & 1\\end{matrix}\\right]$",
            "text/plain": [
              "Matrix([\n",
              "[1, 1, 1],\n",
              "[1, 1, 1],\n",
              "[1, 1, 1]])"
            ]
          },
          "metadata": {}
        },
        {
          "output_type": "display_data",
          "data": {
            "text/latex": "$\\displaystyle \\left[\\begin{matrix}1 & 0 & 0 & 0\\\\0 & 1 & 0 & 0\\\\0 & 0 & 1 & 0\\\\0 & 0 & 0 & 1\\end{matrix}\\right]$",
            "text/plain": [
              "Matrix([\n",
              "[1, 0, 0, 0],\n",
              "[0, 1, 0, 0],\n",
              "[0, 0, 1, 0],\n",
              "[0, 0, 0, 1]])"
            ]
          },
          "metadata": {}
        }
      ]
    },
    {
      "cell_type": "markdown",
      "metadata": {
        "id": "ZZRNrPJJZIFV"
      },
      "source": [
        "Можно создать диагональную матрицу:"
      ]
    },
    {
      "cell_type": "code",
      "metadata": {
        "colab": {
          "base_uri": "https://localhost:8080/",
          "height": 118
        },
        "id": "T9uKGmL6ZIFV",
        "outputId": "3cfe341d-8027-4e4c-c035-d541360c46aa"
      },
      "source": [
        "R = diag(1, 2, ones(3))\n",
        "R"
      ],
      "execution_count": null,
      "outputs": [
        {
          "output_type": "execute_result",
          "data": {
            "text/latex": "$\\displaystyle \\left[\\begin{matrix}1 & 0 & 0 & 0 & 0\\\\0 & 2 & 0 & 0 & 0\\\\0 & 0 & 1 & 1 & 1\\\\0 & 0 & 1 & 1 & 1\\\\0 & 0 & 1 & 1 & 1\\end{matrix}\\right]$",
            "text/plain": [
              "Matrix([\n",
              "[1, 0, 0, 0, 0],\n",
              "[0, 2, 0, 0, 0],\n",
              "[0, 0, 1, 1, 1],\n",
              "[0, 0, 1, 1, 1],\n",
              "[0, 0, 1, 1, 1]])"
            ]
          },
          "metadata": {},
          "execution_count": 40
        }
      ]
    },
    {
      "cell_type": "markdown",
      "metadata": {
        "id": "iGBbGIBFZIFV"
      },
      "source": [
        "В матрице можно выделить строку или столбец:"
      ]
    },
    {
      "cell_type": "code",
      "metadata": {
        "colab": {
          "base_uri": "https://localhost:8080/",
          "height": 38
        },
        "id": "_oFyyukxZIFV",
        "outputId": "2e237d88-e270-4864-b101-479bbc3b0534"
      },
      "source": [
        "R.row(1)"
      ],
      "execution_count": null,
      "outputs": [
        {
          "output_type": "execute_result",
          "data": {
            "text/latex": "$\\displaystyle \\left[\\begin{matrix}0 & 2 & 0 & 0 & 0\\end{matrix}\\right]$",
            "text/plain": [
              "Matrix([[0, 2, 0, 0, 0]])"
            ]
          },
          "metadata": {},
          "execution_count": 41
        }
      ]
    },
    {
      "cell_type": "code",
      "metadata": {
        "colab": {
          "base_uri": "https://localhost:8080/",
          "height": 118
        },
        "id": "zcbTarvJZIFV",
        "outputId": "5351c4ca-cc55-4c07-e0bf-768d0ec18151"
      },
      "source": [
        "R.col(0)"
      ],
      "execution_count": null,
      "outputs": [
        {
          "output_type": "execute_result",
          "data": {
            "text/latex": "$\\displaystyle \\left[\\begin{matrix}1\\\\0\\\\0\\\\0\\\\0\\end{matrix}\\right]$",
            "text/plain": [
              "Matrix([\n",
              "[1],\n",
              "[0],\n",
              "[0],\n",
              "[0],\n",
              "[0]])"
            ]
          },
          "metadata": {},
          "execution_count": 42
        }
      ]
    },
    {
      "cell_type": "markdown",
      "metadata": {
        "id": "K-T1nToJZIFW"
      },
      "source": [
        "Можно использовать нумерацию \"с хвоста\":"
      ]
    },
    {
      "cell_type": "code",
      "metadata": {
        "colab": {
          "base_uri": "https://localhost:8080/",
          "height": 118
        },
        "id": "X_pUrFMsZIFW",
        "outputId": "6b0df7df-c071-4483-b250-e15cefc60baa"
      },
      "source": [
        "R.col(-4)"
      ],
      "execution_count": null,
      "outputs": [
        {
          "output_type": "execute_result",
          "data": {
            "text/latex": "$\\displaystyle \\left[\\begin{matrix}0\\\\2\\\\0\\\\0\\\\0\\end{matrix}\\right]$",
            "text/plain": [
              "Matrix([\n",
              "[0],\n",
              "[2],\n",
              "[0],\n",
              "[0],\n",
              "[0]])"
            ]
          },
          "metadata": {},
          "execution_count": 43
        }
      ]
    },
    {
      "cell_type": "markdown",
      "metadata": {
        "id": "yYMpf5FSZIFW"
      },
      "source": [
        "Можно удалить или добавить строку или столбец:"
      ]
    },
    {
      "cell_type": "code",
      "metadata": {
        "colab": {
          "base_uri": "https://localhost:8080/",
          "height": 220
        },
        "id": "LY9bkHruZIFW",
        "outputId": "27874314-064f-407e-c21b-6ba5ad11212f"
      },
      "source": [
        "Q = diag(2, 3, 4, 5, 6)\n",
        "display(Q)\n",
        "Q.col_del(3)\n",
        "Q"
      ],
      "execution_count": null,
      "outputs": [
        {
          "output_type": "display_data",
          "data": {
            "text/latex": "$\\displaystyle \\left[\\begin{matrix}2 & 0 & 0 & 0 & 0\\\\0 & 3 & 0 & 0 & 0\\\\0 & 0 & 4 & 0 & 0\\\\0 & 0 & 0 & 5 & 0\\\\0 & 0 & 0 & 0 & 6\\end{matrix}\\right]$",
            "text/plain": [
              "Matrix([\n",
              "[2, 0, 0, 0, 0],\n",
              "[0, 3, 0, 0, 0],\n",
              "[0, 0, 4, 0, 0],\n",
              "[0, 0, 0, 5, 0],\n",
              "[0, 0, 0, 0, 6]])"
            ]
          },
          "metadata": {}
        },
        {
          "output_type": "execute_result",
          "data": {
            "text/latex": "$\\displaystyle \\left[\\begin{matrix}2 & 0 & 0 & 0\\\\0 & 3 & 0 & 0\\\\0 & 0 & 4 & 0\\\\0 & 0 & 0 & 0\\\\0 & 0 & 0 & 6\\end{matrix}\\right]$",
            "text/plain": [
              "Matrix([\n",
              "[2, 0, 0, 0],\n",
              "[0, 3, 0, 0],\n",
              "[0, 0, 4, 0],\n",
              "[0, 0, 0, 0],\n",
              "[0, 0, 0, 6]])"
            ]
          },
          "metadata": {},
          "execution_count": 44
        }
      ]
    },
    {
      "cell_type": "code",
      "metadata": {
        "colab": {
          "base_uri": "https://localhost:8080/",
          "height": 138
        },
        "id": "F84sgJ1oZIFW",
        "outputId": "f6c81c97-fcf2-4543-bf0d-1dbd78f10bed"
      },
      "source": [
        "G = ones(2)\n",
        "display(G)\n",
        "G.row_insert(1, zeros(2))"
      ],
      "execution_count": null,
      "outputs": [
        {
          "output_type": "display_data",
          "data": {
            "text/latex": "$\\displaystyle \\left[\\begin{matrix}1 & 1\\\\1 & 1\\end{matrix}\\right]$",
            "text/plain": [
              "Matrix([\n",
              "[1, 1],\n",
              "[1, 1]])"
            ]
          },
          "metadata": {}
        },
        {
          "output_type": "execute_result",
          "data": {
            "text/latex": "$\\displaystyle \\left[\\begin{matrix}1 & 1\\\\0 & 0\\\\0 & 0\\\\1 & 1\\end{matrix}\\right]$",
            "text/plain": [
              "Matrix([\n",
              "[1, 1],\n",
              "[0, 0],\n",
              "[0, 0],\n",
              "[1, 1]])"
            ]
          },
          "metadata": {},
          "execution_count": 45
        }
      ]
    },
    {
      "cell_type": "markdown",
      "metadata": {
        "id": "dBdme5GNZIFX"
      },
      "source": [
        "Внимание!\n",
        "\n",
        "col_insert и row_insert НЕ изменяют матрицу, к которой они применяются!!!\n",
        "col_insert и row_insert возвращают измененную матрицу в качестве результата."
      ]
    },
    {
      "cell_type": "code",
      "metadata": {
        "colab": {
          "base_uri": "https://localhost:8080/",
          "height": 332
        },
        "id": "BAIwZeMfZIFX",
        "outputId": "cbd68671-5c2b-4afd-8e13-fc0957cda461"
      },
      "source": [
        "D = diag(7, 8, 9, 0)\n",
        "print('D:')\n",
        "display(D)\n",
        "T = D.col_insert(1,Matrix([3, 4, 5, 6]))\n",
        "print('после вставки столбца\\nT:')\n",
        "display(T)\n",
        "print('D:')\n",
        "display(D)"
      ],
      "execution_count": null,
      "outputs": [
        {
          "output_type": "stream",
          "name": "stdout",
          "text": [
            "D:\n"
          ]
        },
        {
          "output_type": "display_data",
          "data": {
            "text/latex": "$\\displaystyle \\left[\\begin{matrix}7 & 0 & 0 & 0\\\\0 & 8 & 0 & 0\\\\0 & 0 & 9 & 0\\\\0 & 0 & 0 & 0\\end{matrix}\\right]$",
            "text/plain": [
              "Matrix([\n",
              "[7, 0, 0, 0],\n",
              "[0, 8, 0, 0],\n",
              "[0, 0, 9, 0],\n",
              "[0, 0, 0, 0]])"
            ]
          },
          "metadata": {}
        },
        {
          "output_type": "stream",
          "name": "stdout",
          "text": [
            "после вставки столбца\n",
            "T:\n"
          ]
        },
        {
          "output_type": "display_data",
          "data": {
            "text/latex": "$\\displaystyle \\left[\\begin{matrix}7 & 3 & 0 & 0 & 0\\\\0 & 4 & 8 & 0 & 0\\\\0 & 5 & 0 & 9 & 0\\\\0 & 6 & 0 & 0 & 0\\end{matrix}\\right]$",
            "text/plain": [
              "Matrix([\n",
              "[7, 3, 0, 0, 0],\n",
              "[0, 4, 8, 0, 0],\n",
              "[0, 5, 0, 9, 0],\n",
              "[0, 6, 0, 0, 0]])"
            ]
          },
          "metadata": {}
        },
        {
          "output_type": "stream",
          "name": "stdout",
          "text": [
            "D:\n"
          ]
        },
        {
          "output_type": "display_data",
          "data": {
            "text/latex": "$\\displaystyle \\left[\\begin{matrix}7 & 0 & 0 & 0\\\\0 & 8 & 0 & 0\\\\0 & 0 & 9 & 0\\\\0 & 0 & 0 & 0\\end{matrix}\\right]$",
            "text/plain": [
              "Matrix([\n",
              "[7, 0, 0, 0],\n",
              "[0, 8, 0, 0],\n",
              "[0, 0, 9, 0],\n",
              "[0, 0, 0, 0]])"
            ]
          },
          "metadata": {}
        }
      ]
    },
    {
      "cell_type": "markdown",
      "metadata": {
        "id": "FW1QLS64ZIFX"
      },
      "source": [
        "### Пригодится\n",
        "\n",
        "Числа $\\pi$ и $e$ есть в Sympy:"
      ]
    },
    {
      "cell_type": "code",
      "metadata": {
        "colab": {
          "base_uri": "https://localhost:8080/",
          "height": 58
        },
        "id": "bFRlXA2rZIFX",
        "outputId": "cf0d7286-de85-4725-ad53-b507b9fc505e"
      },
      "source": [
        "display(pi, E)"
      ],
      "execution_count": null,
      "outputs": [
        {
          "output_type": "display_data",
          "data": {
            "text/latex": "$\\displaystyle \\pi$",
            "text/plain": [
              "pi"
            ]
          },
          "metadata": {}
        },
        {
          "output_type": "display_data",
          "data": {
            "text/latex": "$\\displaystyle e$",
            "text/plain": [
              "E"
            ]
          },
          "metadata": {}
        }
      ]
    },
    {
      "cell_type": "markdown",
      "metadata": {
        "id": "DH0OcRRoZIFX"
      },
      "source": [
        "Можем посмотреть на их приближенные значения:"
      ]
    },
    {
      "cell_type": "code",
      "metadata": {
        "colab": {
          "base_uri": "https://localhost:8080/"
        },
        "id": "BVQRJcplZIFY",
        "outputId": "d3c0eb28-e66d-4e3a-c01c-7b579d733d2d"
      },
      "source": [
        "round(pi, 3), round(E, 3)"
      ],
      "execution_count": null,
      "outputs": [
        {
          "output_type": "execute_result",
          "data": {
            "text/plain": [
              "(3.142, 2.718)"
            ]
          },
          "metadata": {},
          "execution_count": 49
        }
      ]
    }
  ]
}
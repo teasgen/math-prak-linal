{
  "nbformat": 4,
  "nbformat_minor": 0,
  "metadata": {
    "kernelspec": {
      "display_name": "Python 3",
      "language": "python",
      "name": "python3"
    },
    "language_info": {
      "codemirror_mode": {
        "name": "ipython",
        "version": 3
      },
      "file_extension": ".py",
      "mimetype": "text/x-python",
      "name": "python",
      "nbconvert_exporter": "python",
      "pygments_lexer": "ipython3",
      "version": "3.7.3"
    },
    "colab": {
      "name": "Alg_1_2021_22_tasks.ipynb",
      "provenance": [],
      "collapsed_sections": [],
      "include_colab_link": true
    }
  },
  "cells": [
    {
      "cell_type": "markdown",
      "metadata": {
        "id": "view-in-github",
        "colab_type": "text"
      },
      "source": [
        "<a href=\"https://colab.research.google.com/github/teasgen/first-task-math-prak/blob/main/Alg_1_2021_22_tasks.ipynb\" target=\"_parent\"><img src=\"https://colab.research.google.com/assets/colab-badge.svg\" alt=\"Open In Colab\"/></a>"
      ]
    },
    {
      "cell_type": "markdown",
      "metadata": {
        "id": "NWxN--Ciycml"
      },
      "source": [
        "# Практическое занятие 1\n",
        "# Компьютерный практикум по алгебре на Python"
      ]
    },
    {
      "cell_type": "markdown",
      "metadata": {
        "id": "JITt7G7iycmp"
      },
      "source": [
        "https://docs.sympy.org/latest/tutorial/intro.html"
      ]
    },
    {
      "cell_type": "code",
      "metadata": {
        "id": "VKvRy_UGycmq"
      },
      "source": [
        "#Вначале для простоты будем подключать модуль sympy целиком\n",
        "from sympy import *"
      ],
      "execution_count": 108,
      "outputs": []
    },
    {
      "cell_type": "markdown",
      "metadata": {
        "id": "x3mNO8qJycmr"
      },
      "source": [
        "## Действия с числами, числовые выражения\n",
        "Об основных типах данных Python 3.10 читайте здесь:\n",
        "https://docs.python.org/3/reference/datamodel.html#index-19\n",
        "\n",
        "Сейчас нам понадобятся типы:\n",
        "\n",
        "int - целое число (насколько большим оно может быть, зависит только от объема доступной памяти)\n",
        "\n",
        "float - вещественное число (double precision floating point numbers)\n",
        "\n",
        "### Задание 1.\n",
        "Вычислите значение выражения\n",
        "$$\n",
        "3\\left(2^{4}+6\\sin\\frac{\\pi}{4}-5\\sqrt{2}\\right)\n",
        "$$"
      ]
    },
    {
      "cell_type": "code",
      "metadata": {
        "id": "oVk_GJYwycmr",
        "colab": {
          "base_uri": "https://localhost:8080/",
          "height": 38
        },
        "outputId": "2157a0cf-a2dc-45ba-ae6d-38be64c74169"
      },
      "source": [
        "display(3 * (2 ** 4 + 6*sin(pi / 4) - 5*sqrt(2)))"
      ],
      "execution_count": 109,
      "outputs": [
        {
          "output_type": "display_data",
          "data": {
            "text/latex": "$\\displaystyle 48 - 6 \\sqrt{2}$",
            "text/plain": [
              "48 - 6*sqrt(2)"
            ]
          },
          "metadata": {}
        }
      ]
    },
    {
      "cell_type": "markdown",
      "metadata": {
        "id": "G3b9I6dNycmr"
      },
      "source": [
        "## Символы, символьные выражения\n",
        "Для аналитических преобразований в sympy используется класс Symbol\n",
        "\n",
        "https://docs.sympy.org/latest/modules/core.html?highlight=symbol#module-sympy.core.symbol\n",
        "\n",
        "В этом классе есть метод Symbol для создания одного символа.\n",
        "###  Задание 2.\n",
        "Создайте символ $t$ и составьте выражение $\\frac{\\sqrt{t}+t^3}{t-1}$"
      ]
    },
    {
      "cell_type": "code",
      "metadata": {
        "id": "Dz1jRObIycms",
        "colab": {
          "base_uri": "https://localhost:8080/",
          "height": 57
        },
        "outputId": "1808be43-dd04-4dfb-d429-b75de440a1c2"
      },
      "source": [
        "t = Symbol('t')\n",
        "expr = (sqrt(t) + t ** 3) / (t - 1)\n",
        "expr"
      ],
      "execution_count": 110,
      "outputs": [
        {
          "output_type": "execute_result",
          "data": {
            "text/latex": "$\\displaystyle \\frac{\\sqrt{t} + t^{3}}{t - 1}$",
            "text/plain": [
              "(sqrt(t) + t**3)/(t - 1)"
            ]
          },
          "metadata": {},
          "execution_count": 110
        }
      ]
    },
    {
      "cell_type": "markdown",
      "metadata": {
        "id": "qMlP2YM5ycms"
      },
      "source": [
        "## Операции с символьными выражениями: simplify, expand,factor,collect\n",
        "#### simplify\n",
        "используется для упрощения выражения\n",
        "#### expand \n",
        "используется для раскрытия скобок\n",
        "#### factor \n",
        "для разложения на множители\n",
        "#### collect \n",
        "для группировки по степеням переменной\n",
        "###  Задание 3.\n",
        "Упростите выражение\n",
        "$$\n",
        "\\frac{(u+v)^2-4uv}{u-v}+2v-1\n",
        "$$"
      ]
    },
    {
      "cell_type": "code",
      "metadata": {
        "id": "b27LKumpycms",
        "colab": {
          "base_uri": "https://localhost:8080/",
          "height": 39
        },
        "outputId": "1d6ab906-220b-4a38-cdf9-508ddb2c6214"
      },
      "source": [
        "u, v = symbols('u v')\n",
        "expr = ((u + v) ** 2 - 4 * u * v) / (u - v) + 2 * v - 1\n",
        "display(simplify(expr))"
      ],
      "execution_count": 111,
      "outputs": [
        {
          "output_type": "display_data",
          "data": {
            "text/latex": "$\\displaystyle u + v - 1$",
            "text/plain": [
              "u + v - 1"
            ]
          },
          "metadata": {}
        }
      ]
    },
    {
      "cell_type": "markdown",
      "metadata": {
        "id": "gasezWy-ycmt"
      },
      "source": [
        "###  Задание 4.\n",
        "Раскройте скобки в выражении $(a_1+a_2+a_3)^3-(a_1-a_2)^2$"
      ]
    },
    {
      "cell_type": "code",
      "metadata": {
        "id": "SDO7FIFfycmt",
        "colab": {
          "base_uri": "https://localhost:8080/",
          "height": 39
        },
        "outputId": "788caae4-57d6-456e-f178-7d641dee81c6"
      },
      "source": [
        "a = symbols('a:4')\n",
        "expr = (a[1] + a[2] + a[3]) ** 3 - (a[1] - a[2]) ** 2\n",
        "display(expand(expr))"
      ],
      "execution_count": 112,
      "outputs": [
        {
          "output_type": "display_data",
          "data": {
            "text/latex": "$\\displaystyle a_{1}^{3} + 3 a_{1}^{2} a_{2} + 3 a_{1}^{2} a_{3} - a_{1}^{2} + 3 a_{1} a_{2}^{2} + 6 a_{1} a_{2} a_{3} + 2 a_{1} a_{2} + 3 a_{1} a_{3}^{2} + a_{2}^{3} + 3 a_{2}^{2} a_{3} - a_{2}^{2} + 3 a_{2} a_{3}^{2} + a_{3}^{3}$",
            "text/plain": [
              "a1**3 + 3*a1**2*a2 + 3*a1**2*a3 - a1**2 + 3*a1*a2**2 + 6*a1*a2*a3 + 2*a1*a2 + 3*a1*a3**2 + a2**3 + 3*a2**2*a3 - a2**2 + 3*a2*a3**2 + a3**3"
            ]
          },
          "metadata": {}
        }
      ]
    },
    {
      "cell_type": "markdown",
      "metadata": {
        "id": "d9_rZkk7ycmt"
      },
      "source": [
        "###  Задание 5.\n",
        "Разложите на множители\n",
        "$2u^4+3u^3v-2u^2v^2-2u^2v-3uv^2+2v^3$"
      ]
    },
    {
      "cell_type": "code",
      "metadata": {
        "id": "GHNuPl_dycmu",
        "colab": {
          "base_uri": "https://localhost:8080/",
          "height": 39
        },
        "outputId": "21c617c8-8744-42ab-a794-7adc1e1b34cf"
      },
      "source": [
        "expr = (2 * u**4 + 3 * u**3 * v - 2 * u**2 * v**2 - 2 * u**2*v - 3 *u*v**2 + 2*v**3)\n",
        "display(factor(expr))"
      ],
      "execution_count": 113,
      "outputs": [
        {
          "output_type": "display_data",
          "data": {
            "text/latex": "$\\displaystyle \\left(u + 2 v\\right) \\left(2 u - v\\right) \\left(u^{2} - v\\right)$",
            "text/plain": [
              "(u + 2*v)*(2*u - v)*(u**2 - v)"
            ]
          },
          "metadata": {}
        }
      ]
    },
    {
      "cell_type": "markdown",
      "metadata": {
        "id": "Cnm5vka3ycmu"
      },
      "source": [
        "###  Задание 6.\n",
        "Сгруппируйте выражение из Задания 5 по степеням $u$."
      ]
    },
    {
      "cell_type": "code",
      "metadata": {
        "id": "2dXheKl_ycmu",
        "colab": {
          "base_uri": "https://localhost:8080/",
          "height": 39
        },
        "outputId": "b4f49f2d-9b71-4038-c0b3-9ce10400c42e"
      },
      "source": [
        "display(collect(expr, u))"
      ],
      "execution_count": 114,
      "outputs": [
        {
          "output_type": "display_data",
          "data": {
            "text/latex": "$\\displaystyle 2 u^{4} + 3 u^{3} v + u^{2} \\left(- 2 v^{2} - 2 v\\right) - 3 u v^{2} + 2 v^{3}$",
            "text/plain": [
              "2*u**4 + 3*u**3*v + u**2*(-2*v**2 - 2*v) - 3*u*v**2 + 2*v**3"
            ]
          },
          "metadata": {}
        }
      ]
    },
    {
      "cell_type": "markdown",
      "metadata": {
        "id": "nvztFMwyycmv"
      },
      "source": [
        "## Списки и кортежи\n",
        "Нам понадобятся два итерируемых типа\n",
        "\n",
        "#### списки list\n",
        "изменяемый тип\n",
        "#### кортежи tuple\n",
        "неизменяемый тип\n",
        "\n",
        "### Задание 7\n",
        "Создайте список $Powers$ из трех кортежей, состоящих из символов $x$, $y$ и $z$ в степени, равной номеру кортежа в списке."
      ]
    },
    {
      "cell_type": "code",
      "metadata": {
        "id": "egJLWmVVycmv"
      },
      "source": [
        "x, y, z = symbols('x y z')\n",
        "Powers = []\n",
        "for i in range(1, 4):\n",
        "  Powers.append((x ** i, y ** i, z ** i))"
      ],
      "execution_count": 115,
      "outputs": []
    },
    {
      "cell_type": "markdown",
      "metadata": {
        "id": "sE10eEvqycmv"
      },
      "source": [
        "### Задание 8\n",
        "В списке Powers Задания 7 заменить $(x^2,y^2,z^2)$ на (0,0,0)."
      ]
    },
    {
      "cell_type": "code",
      "metadata": {
        "id": "D_fNgj7Lycmv"
      },
      "source": [
        "Powers[1] = (0, 0, )"
      ],
      "execution_count": 116,
      "outputs": []
    },
    {
      "cell_type": "markdown",
      "metadata": {
        "id": "PmrUn7iVycmw"
      },
      "source": [
        "## Матрицы\n",
        "### Задание 9\n",
        "Составить матрицу  $A_{3\\times 4}$ из чисел вида $3k+1$, $k=1,2,...$:\n",
        "$$\n",
        "A=\n",
        "\\left(\n",
        "\\begin{matrix}\n",
        "4& 7& 10& 13\\\\\n",
        "16& 19& 22& 25\\\\\n",
        "28& 31& 34& 37\n",
        "\\end{matrix}\n",
        "\\right)\n",
        "$$"
      ]
    },
    {
      "cell_type": "code",
      "metadata": {
        "id": "FP32ECJGycmw",
        "colab": {
          "base_uri": "https://localhost:8080/",
          "height": 78
        },
        "outputId": "c326ea82-f261-4d08-a1c5-9061c7810d73"
      },
      "source": [
        "a = []\n",
        "for i in range(3):\n",
        "  a.append([0] * 4)\n",
        "A = Matrix(a)\n",
        "for i in range(3):\n",
        "  for j in range(4):\n",
        "    A[i, j] = 3 * (i * 4 + j + 1) + 1\n",
        "display(A)"
      ],
      "execution_count": 117,
      "outputs": [
        {
          "output_type": "display_data",
          "data": {
            "text/latex": "$\\displaystyle \\left[\\begin{matrix}4 & 7 & 10 & 13\\\\16 & 19 & 22 & 25\\\\28 & 31 & 34 & 37\\end{matrix}\\right]$",
            "text/plain": [
              "Matrix([\n",
              "[ 4,  7, 10, 13],\n",
              "[16, 19, 22, 25],\n",
              "[28, 31, 34, 37]])"
            ]
          },
          "metadata": {}
        }
      ]
    },
    {
      "cell_type": "markdown",
      "metadata": {
        "id": "lU6I_nCJycmw"
      },
      "source": [
        "\n",
        "### Задание 10\n",
        "В матрице А задания 9 удалить вторую строку и вставить третий столбец между первым и вторым (сам третий столбец не удалять!), должно получиться\n",
        "$$\n",
        "A=\n",
        "\\left(\n",
        "\\begin{matrix}\n",
        "4& 10& 7& 10& 13\\\\\n",
        "28& 34& 31& 34& 37\n",
        "\\end{matrix}\n",
        "\\right)\n",
        "$$"
      ]
    },
    {
      "cell_type": "code",
      "metadata": {
        "id": "0-XQkai-ycmw",
        "colab": {
          "base_uri": "https://localhost:8080/",
          "height": 58
        },
        "outputId": "df69c0ea-ebca-4937-bab0-4377e04f126b"
      },
      "source": [
        "A.row_del(1)\n",
        "A = A.col_insert(1, A.col(2))\n",
        "display(A)"
      ],
      "execution_count": 118,
      "outputs": [
        {
          "output_type": "display_data",
          "data": {
            "text/latex": "$\\displaystyle \\left[\\begin{matrix}4 & 10 & 7 & 10 & 13\\\\28 & 34 & 31 & 34 & 37\\end{matrix}\\right]$",
            "text/plain": [
              "Matrix([\n",
              "[ 4, 10,  7, 10, 13],\n",
              "[28, 34, 31, 34, 37]])"
            ]
          },
          "metadata": {}
        }
      ]
    },
    {
      "cell_type": "markdown",
      "metadata": {
        "id": "bSKQcn87ycmx"
      },
      "source": [
        "### Индивидуальное задание\n",
        "Составить матрицу левой части СЛАУ, вектор-столбец переменных, вектор-столбец правой части, вектор-столбец $X_0$. Показать, что $X_0$ является решением данной СЛАУ.\n",
        "\\begin{align*}\n",
        "        \\left\\{\\begin{matrix}5 x_{1} + x_{2} - 6 x_{3} - 4 x_{4} - x_{5} = -69\n",
        "\\\\- 5 x_{1} - 6 x_{2} - x_{3} - 3 x_{4} + 4 x_{5} = -103\n",
        "        \\\\5 x_{1} - 3 x_{2} - 9 x_{3} + 8 x_{4} + x_{5} = -59\n",
        "\\end{matrix}\\right.\\qquad X_0=\\left[\\begin{matrix}-2 & 8 & 8 & 7 & -9\\end{matrix}\\right]\n",
        " \\end{align*}"
      ]
    },
    {
      "cell_type": "code",
      "metadata": {
        "colab": {
          "base_uri": "https://localhost:8080/",
          "height": 360
        },
        "id": "4Js7xXWoT2Xc",
        "outputId": "4f5dafd5-c0fa-45a4-d9eb-b3680130cbd9"
      },
      "source": [
        "xn = symbols('x1:6')\n",
        "a = [[5, 1, -6, -4, -1], [-5, -6, -1, -3, 4], [5, -3, -9, 8, 1]]\n",
        "b = [[-69], [-103], [-59]]\n",
        "x = [[xn[0]], [xn[1]], [xn[2]], [xn[3]], [xn[4]]]\n",
        "x0 = [[-2], [8], [8], [7], [-9]]\n",
        "A = Matrix(a)\n",
        "B = Matrix(b)\n",
        "X = Matrix(x)\n",
        "X0 = Matrix(x0)\n",
        "\n",
        "display(A, X, B, X0)\n",
        "\n",
        "Check = A * X0\n",
        "print(Check == B)"
      ],
      "execution_count": 123,
      "outputs": [
        {
          "output_type": "display_data",
          "data": {
            "text/latex": "$\\displaystyle \\left[\\begin{matrix}5 & 1 & -6 & -4 & -1\\\\-5 & -6 & -1 & -3 & 4\\\\5 & -3 & -9 & 8 & 1\\end{matrix}\\right]$",
            "text/plain": [
              "Matrix([\n",
              "[ 5,  1, -6, -4, -1],\n",
              "[-5, -6, -1, -3,  4],\n",
              "[ 5, -3, -9,  8,  1]])"
            ]
          },
          "metadata": {}
        },
        {
          "output_type": "display_data",
          "data": {
            "text/latex": "$\\displaystyle \\left[\\begin{matrix}x_{1}\\\\x_{2}\\\\x_{3}\\\\x_{4}\\\\x_{5}\\end{matrix}\\right]$",
            "text/plain": [
              "Matrix([\n",
              "[x1],\n",
              "[x2],\n",
              "[x3],\n",
              "[x4],\n",
              "[x5]])"
            ]
          },
          "metadata": {}
        },
        {
          "output_type": "display_data",
          "data": {
            "text/latex": "$\\displaystyle \\left[\\begin{matrix}-69\\\\-103\\\\-59\\end{matrix}\\right]$",
            "text/plain": [
              "Matrix([\n",
              "[ -69],\n",
              "[-103],\n",
              "[ -59]])"
            ]
          },
          "metadata": {}
        },
        {
          "output_type": "display_data",
          "data": {
            "text/latex": "$\\displaystyle \\left[\\begin{matrix}-2\\\\8\\\\8\\\\7\\\\-9\\end{matrix}\\right]$",
            "text/plain": [
              "Matrix([\n",
              "[-2],\n",
              "[ 8],\n",
              "[ 8],\n",
              "[ 7],\n",
              "[-9]])"
            ]
          },
          "metadata": {}
        },
        {
          "output_type": "stream",
          "name": "stdout",
          "text": [
            "True\n"
          ]
        }
      ]
    }
  ]
}
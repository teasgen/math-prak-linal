{
  "nbformat": 4,
  "nbformat_minor": 0,
  "metadata": {
    "kernelspec": {
      "display_name": "Python 3",
      "language": "python",
      "name": "python3"
    },
    "language_info": {
      "codemirror_mode": {
        "name": "ipython",
        "version": 3
      },
      "file_extension": ".py",
      "mimetype": "text/x-python",
      "name": "python",
      "nbconvert_exporter": "python",
      "pygments_lexer": "ipython3",
      "version": "3.7.3"
    },
    "colab": {
      "name": "Alg_1_2021_22_tasks.ipynb",
      "provenance": [],
      "collapsed_sections": [],
      "include_colab_link": true
    }
  },
  "cells": [
    {
      "cell_type": "markdown",
      "metadata": {
        "id": "view-in-github",
        "colab_type": "text"
      },
      "source": [
        "<a href=\"https://colab.research.google.com/github/teasgen/first-task-math-prak/blob/main/Alg_1_2021_22_tasks.ipynb\" target=\"_parent\"><img src=\"https://colab.research.google.com/assets/colab-badge.svg\" alt=\"Open In Colab\"/></a>"
      ]
    },
    {
      "cell_type": "markdown",
      "metadata": {
        "id": "NWxN--Ciycml"
      },
      "source": [
        "# Практическое занятие 1\n",
        "# Компьютерный практикум по алгебре на Python"
      ]
    },
    {
      "cell_type": "markdown",
      "metadata": {
        "id": "JITt7G7iycmp"
      },
      "source": [
        "https://docs.sympy.org/latest/tutorial/intro.html"
      ]
    },
    {
      "cell_type": "code",
      "metadata": {
        "id": "VKvRy_UGycmq"
      },
      "source": [
        "#Вначале для простоты будем подключать модуль sympy целиком\n",
        "from sympy import *"
      ],
      "execution_count": 2,
      "outputs": []
    },
    {
      "cell_type": "markdown",
      "metadata": {
        "id": "x3mNO8qJycmr"
      },
      "source": [
        "## Действия с числами, числовые выражения\n",
        "Об основных типах данных Python 3.10 читайте здесь:\n",
        "https://docs.python.org/3/reference/datamodel.html#index-19\n",
        "\n",
        "Сейчас нам понадобятся типы:\n",
        "\n",
        "int - целое число (насколько большим оно может быть, зависит только от объема доступной памяти)\n",
        "\n",
        "float - вещественное число (double precision floating point numbers)\n",
        "\n",
        "### Задание 1.\n",
        "Вычислите значение выражения\n",
        "$$\n",
        "3\\left(2^{4}+6\\sin\\frac{\\pi}{4}-5\\sqrt{2}\\right)\n",
        "$$"
      ]
    },
    {
      "cell_type": "code",
      "metadata": {
        "id": "oVk_GJYwycmr"
      },
      "source": [
        ""
      ],
      "execution_count": null,
      "outputs": []
    },
    {
      "cell_type": "markdown",
      "metadata": {
        "id": "G3b9I6dNycmr"
      },
      "source": [
        "## Символы, символьные выражения\n",
        "Для аналитических преобразований в sympy используется класс Symbol\n",
        "\n",
        "https://docs.sympy.org/latest/modules/core.html?highlight=symbol#module-sympy.core.symbol\n",
        "\n",
        "В этом классе есть метод Symbol для создания одного символа.\n",
        "###  Задание 2.\n",
        "Создайте символ $t$ и составьте выражение $\\frac{\\sqrt{t}+t^3}{t-1}$"
      ]
    },
    {
      "cell_type": "code",
      "metadata": {
        "id": "Dz1jRObIycms",
        "colab": {
          "base_uri": "https://localhost:8080/",
          "height": 57
        },
        "outputId": "775f2205-6b03-46cb-a369-ddf183ff5e6e"
      },
      "source": [
        "t = Symbol('t')\n",
        "expr = (sqrt(t) + t ** 3) / (t - 1)\n",
        "expr"
      ],
      "execution_count": 6,
      "outputs": [
        {
          "output_type": "execute_result",
          "data": {
            "text/latex": "$\\displaystyle \\frac{\\sqrt{t} + t^{3}}{t - 1}$",
            "text/plain": [
              "(sqrt(t) + t**3)/(t - 1)"
            ]
          },
          "metadata": {},
          "execution_count": 6
        }
      ]
    },
    {
      "cell_type": "markdown",
      "metadata": {
        "id": "qMlP2YM5ycms"
      },
      "source": [
        "## Операции с символьными выражениями: simplify, expand,factor,collect\n",
        "#### simplify\n",
        "используется для упрощения выражения\n",
        "#### expand \n",
        "используется для раскрытия скобок\n",
        "#### factor \n",
        "для разложения на множители\n",
        "#### collect \n",
        "для группировки по степеням переменной\n",
        "###  Задание 3.\n",
        "Упростите выражение\n",
        "$$\n",
        "\\frac{(u+v)^2-4uv}{u-v}+2v-1\n",
        "$$"
      ]
    },
    {
      "cell_type": "code",
      "metadata": {
        "id": "b27LKumpycms"
      },
      "source": [
        ""
      ],
      "execution_count": null,
      "outputs": []
    },
    {
      "cell_type": "markdown",
      "metadata": {
        "id": "gasezWy-ycmt"
      },
      "source": [
        "###  Задание 4.\n",
        "Раскройте скобки в выражении $(a_1+a_2+a_3)^3-(a_1-a_2)^2$"
      ]
    },
    {
      "cell_type": "code",
      "metadata": {
        "id": "SDO7FIFfycmt"
      },
      "source": [
        ""
      ],
      "execution_count": null,
      "outputs": []
    },
    {
      "cell_type": "markdown",
      "metadata": {
        "id": "d9_rZkk7ycmt"
      },
      "source": [
        "###  Задание 5.\n",
        "Разложите на множители\n",
        "$2u^4+3u^3v-2u^2v^2-2u^2v-3uv^2+2v^3$"
      ]
    },
    {
      "cell_type": "code",
      "metadata": {
        "id": "GHNuPl_dycmu"
      },
      "source": [
        ""
      ],
      "execution_count": null,
      "outputs": []
    },
    {
      "cell_type": "markdown",
      "metadata": {
        "id": "Cnm5vka3ycmu"
      },
      "source": [
        "###  Задание 6.\n",
        "Сгруппируйте выражение из Задания 5 по степеням $u$."
      ]
    },
    {
      "cell_type": "code",
      "metadata": {
        "id": "2dXheKl_ycmu"
      },
      "source": [
        ""
      ],
      "execution_count": null,
      "outputs": []
    },
    {
      "cell_type": "markdown",
      "metadata": {
        "id": "nvztFMwyycmv"
      },
      "source": [
        "## Списки и кортежи\n",
        "Нам понадобятся два итерируемых типа\n",
        "\n",
        "#### списки list\n",
        "изменяемый тип\n",
        "#### кортежи tuple\n",
        "неизменяемый тип\n",
        "\n",
        "### Задание 7\n",
        "Создайте список $Powers$ из трех кортежей, состоящих из символов $x$, $y$ и $z$ в степени, равной номеру кортежа в списке."
      ]
    },
    {
      "cell_type": "code",
      "metadata": {
        "id": "egJLWmVVycmv"
      },
      "source": [
        ""
      ],
      "execution_count": null,
      "outputs": []
    },
    {
      "cell_type": "markdown",
      "metadata": {
        "id": "sE10eEvqycmv"
      },
      "source": [
        "### Задание 8\n",
        "В списке Powers Задания 7 заменить $(x^2,y^2,z^2)$ на (0,0,0)."
      ]
    },
    {
      "cell_type": "code",
      "metadata": {
        "id": "D_fNgj7Lycmv"
      },
      "source": [
        ""
      ],
      "execution_count": null,
      "outputs": []
    },
    {
      "cell_type": "markdown",
      "metadata": {
        "id": "PmrUn7iVycmw"
      },
      "source": [
        "## Матрицы\n",
        "### Задание 9\n",
        "Составить матрицу  $A_{3\\times 4}$ из чисел вида $3k+1$, $k=1,2,...$:\n",
        "$$\n",
        "A=\n",
        "\\left(\n",
        "\\begin{matrix}\n",
        "4& 7& 10& 13\\\\\n",
        "16& 19& 22& 25\\\\\n",
        "28& 31& 34& 37\n",
        "\\end{matrix}\n",
        "\\right)\n",
        "$$"
      ]
    },
    {
      "cell_type": "code",
      "metadata": {
        "id": "FP32ECJGycmw"
      },
      "source": [
        ""
      ],
      "execution_count": null,
      "outputs": []
    },
    {
      "cell_type": "markdown",
      "metadata": {
        "id": "lU6I_nCJycmw"
      },
      "source": [
        "### Задание 10\n",
        "В матрице А задания 9 удалить вторую строку и вставить третий столбец между первым и вторым (сам третий столбец не удалять!), должно получиться\n",
        "$$\n",
        "A=\n",
        "\\left(\n",
        "\\begin{matrix}\n",
        "4& 10& 7& 10& 13\\\\\n",
        "28& 34& 31& 34& 37\n",
        "\\end{matrix}\n",
        "\\right)\n",
        "$$"
      ]
    },
    {
      "cell_type": "code",
      "metadata": {
        "id": "0-XQkai-ycmw"
      },
      "source": [
        ""
      ],
      "execution_count": null,
      "outputs": []
    },
    {
      "cell_type": "markdown",
      "metadata": {
        "id": "bSKQcn87ycmx"
      },
      "source": [
        "### Индивидуальное задание\n",
        "Составить матрицу левой части СЛАУ, вектор-столбец переменных, вектор-столбец правой части, вектор-столбец $X_0$. Показать, что $X_0$ является решением данной СЛАУ."
      ]
    }
  ]
}